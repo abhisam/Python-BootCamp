{
  "nbformat": 4,
  "nbformat_minor": 0,
  "metadata": {
    "colab": {
      "name": "Basic Python.ipynb",
      "provenance": [],
      "authorship_tag": "ABX9TyORX1YLTPwfQhCl0RPSI9JL",
      "include_colab_link": true
    },
    "kernelspec": {
      "name": "python3",
      "display_name": "Python 3"
    },
    "language_info": {
      "name": "python"
    }
  },
  "cells": [
    {
      "cell_type": "markdown",
      "metadata": {
        "id": "view-in-github",
        "colab_type": "text"
      },
      "source": [
        "<a href=\"https://colab.research.google.com/github/abhisam/Python-BootCamp/blob/main/Basic_Python.ipynb\" target=\"_parent\"><img src=\"https://colab.research.google.com/assets/colab-badge.svg\" alt=\"Open In Colab\"/></a>"
      ]
    },
    {
      "cell_type": "markdown",
      "source": [
        "## **Muntable** vs **Immutable**"
      ],
      "metadata": {
        "id": "pzTUTVbQQnJU"
      }
    },
    {
      "cell_type": "code",
      "source": [
        "# Immutables are unchanchable\n",
        "\n",
        "# Lists - mutable\n",
        "\n",
        "x = [\"Dark\", \"Blue\", \"Whilte\"]\n",
        "x"
      ],
      "metadata": {
        "colab": {
          "base_uri": "https://localhost:8080/"
        },
        "id": "mstTiomEQbe_",
        "outputId": "eabc43f7-26d4-43da-d40d-54ff3aaabca0"
      },
      "execution_count": 19,
      "outputs": [
        {
          "output_type": "execute_result",
          "data": {
            "text/plain": [
              "['Dark', 'Blue', 'Whilte']"
            ]
          },
          "metadata": {},
          "execution_count": 19
        }
      ]
    },
    {
      "cell_type": "code",
      "source": [
        "# we can append a string/number to list\n",
        "x.append(\"Green\")\n",
        "x"
      ],
      "metadata": {
        "colab": {
          "base_uri": "https://localhost:8080/"
        },
        "id": "b-vW2ckTZL2d",
        "outputId": "749ced2b-bdeb-4e13-ad7f-3d9ce33a4fdb"
      },
      "execution_count": 20,
      "outputs": [
        {
          "output_type": "execute_result",
          "data": {
            "text/plain": [
              "['Dark', 'Blue', 'Whilte', 'Green']"
            ]
          },
          "metadata": {},
          "execution_count": 20
        }
      ]
    },
    {
      "cell_type": "code",
      "source": [
        "# creating immutable using tuple\n",
        "# tuple cannot be changed once created\n",
        "y = (\"red\",\"white\", \"white\")\n",
        "y"
      ],
      "metadata": {
        "colab": {
          "base_uri": "https://localhost:8080/"
        },
        "id": "Bd9RejqJZ30C",
        "outputId": "873fa5d9-b349-4d43-fc06-596f233c2e70"
      },
      "execution_count": 32,
      "outputs": [
        {
          "output_type": "execute_result",
          "data": {
            "text/plain": [
              "('red', 'white', 'white')"
            ]
          },
          "metadata": {},
          "execution_count": 32
        }
      ]
    },
    {
      "cell_type": "markdown",
      "source": [
        "# Tuples accessing elements"
      ],
      "metadata": {
        "id": "A3ZLRiUltlC4"
      }
    },
    {
      "cell_type": "code",
      "source": [
        "# index access\n",
        "# indexing starts from zero\n",
        "y[1]"
      ],
      "metadata": {
        "colab": {
          "base_uri": "https://localhost:8080/",
          "height": 35
        },
        "id": "EwWCgog2u_PY",
        "outputId": "531df54d-95b8-4279-d025-6e4d7b9b7407"
      },
      "execution_count": 33,
      "outputs": [
        {
          "output_type": "execute_result",
          "data": {
            "application/vnd.google.colaboratory.intrinsic+json": {
              "type": "string"
            },
            "text/plain": [
              "'white'"
            ]
          },
          "metadata": {},
          "execution_count": 33
        }
      ]
    },
    {
      "cell_type": "code",
      "source": [
        "y[0]"
      ],
      "metadata": {
        "colab": {
          "base_uri": "https://localhost:8080/",
          "height": 35
        },
        "id": "yXVKIwCftu3c",
        "outputId": "b0ed2c2e-33ec-46c7-c5ce-213a1e843188"
      },
      "execution_count": 34,
      "outputs": [
        {
          "output_type": "execute_result",
          "data": {
            "application/vnd.google.colaboratory.intrinsic+json": {
              "type": "string"
            },
            "text/plain": [
              "'red'"
            ]
          },
          "metadata": {},
          "execution_count": 34
        }
      ]
    },
    {
      "cell_type": "code",
      "source": [
        "# negative indexing starts from -1\n",
        "y[-1]"
      ],
      "metadata": {
        "colab": {
          "base_uri": "https://localhost:8080/",
          "height": 35
        },
        "id": "cOLuy6bjt0-5",
        "outputId": "e527e67c-1722-4f00-fa01-ceb312c74231"
      },
      "execution_count": 35,
      "outputs": [
        {
          "output_type": "execute_result",
          "data": {
            "application/vnd.google.colaboratory.intrinsic+json": {
              "type": "string"
            },
            "text/plain": [
              "'white'"
            ]
          },
          "metadata": {},
          "execution_count": 35
        }
      ]
    },
    {
      "cell_type": "code",
      "source": [
        "y[-2]"
      ],
      "metadata": {
        "colab": {
          "base_uri": "https://localhost:8080/",
          "height": 35
        },
        "id": "n_ai0EI9uAI7",
        "outputId": "2b347369-b4c5-4f8d-e33e-f4974009e9f6"
      },
      "execution_count": 36,
      "outputs": [
        {
          "output_type": "execute_result",
          "data": {
            "application/vnd.google.colaboratory.intrinsic+json": {
              "type": "string"
            },
            "text/plain": [
              "'white'"
            ]
          },
          "metadata": {},
          "execution_count": 36
        }
      ]
    },
    {
      "cell_type": "code",
      "source": [
        "# slicing tuple elements\n",
        "y[0:2]"
      ],
      "metadata": {
        "colab": {
          "base_uri": "https://localhost:8080/"
        },
        "id": "FJpBXvAwuBfd",
        "outputId": "b749b772-b8c7-41d0-a56c-5093c04fb969"
      },
      "execution_count": 37,
      "outputs": [
        {
          "output_type": "execute_result",
          "data": {
            "text/plain": [
              "('red', 'white')"
            ]
          },
          "metadata": {},
          "execution_count": 37
        }
      ]
    },
    {
      "cell_type": "code",
      "source": [
        "# 'tuple' object doesn't support item deletion\n",
        "# tuples can deleted\n",
        "y.count('white') #  number of same element in tuple"
      ],
      "metadata": {
        "colab": {
          "base_uri": "https://localhost:8080/"
        },
        "id": "H4YFwJMNujEQ",
        "outputId": "63f601ce-4184-4a94-c0cd-b754b7bf3455"
      },
      "execution_count": 38,
      "outputs": [
        {
          "output_type": "execute_result",
          "data": {
            "text/plain": [
              "2"
            ]
          },
          "metadata": {},
          "execution_count": 38
        }
      ]
    },
    {
      "cell_type": "code",
      "source": [
        "y.index('white') # get index of element "
      ],
      "metadata": {
        "colab": {
          "base_uri": "https://localhost:8080/"
        },
        "id": "MneaN4j6vqiu",
        "outputId": "61ad3b98-a9d4-4211-e5f9-78a8c89b4a2a"
      },
      "execution_count": 40,
      "outputs": [
        {
          "output_type": "execute_result",
          "data": {
            "text/plain": [
              "1"
            ]
          },
          "metadata": {},
          "execution_count": 40
        }
      ]
    },
    {
      "cell_type": "code",
      "source": [
        ""
      ],
      "metadata": {
        "id": "tepPz5ebqW_g"
      },
      "execution_count": null,
      "outputs": []
    }
  ]
}